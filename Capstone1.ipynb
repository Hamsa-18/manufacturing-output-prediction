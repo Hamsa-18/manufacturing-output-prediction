{
  "nbformat": 4,
  "nbformat_minor": 0,
  "metadata": {
    "colab": {
      "provenance": []
    },
    "kernelspec": {
      "name": "python3",
      "display_name": "Python 3"
    },
    "language_info": {
      "name": "python"
    }
  },
  "cells": [
    {
      "cell_type": "markdown",
      "source": [
        "1. Setup — imports & constants"
      ],
      "metadata": {
        "id": "p2MvspYCVaHi"
      }
    },
    {
      "cell_type": "code",
      "source": [
        "# Step 1: imports and constants\n",
        "import os\n",
        "import pandas as pd\n",
        "import numpy as np\n",
        "import matplotlib.pyplot as plt\n",
        "import seaborn as sns\n",
        "\n",
        "from sklearn.model_selection import train_test_split\n",
        "from sklearn.preprocessing import StandardScaler, OneHotEncoder\n",
        "from sklearn.impute import SimpleImputer\n",
        "from sklearn.compose import ColumnTransformer\n",
        "from sklearn.pipeline import Pipeline\n",
        "from sklearn.linear_model import LinearRegression, Ridge\n",
        "from sklearn.metrics import mean_squared_error, mean_absolute_error, r2_score\n",
        "import joblib\n",
        "\n",
        "# File path (change if needed)\n",
        "DATA_PATH = (\"/content/manufacturing_dataset_1000_samples.xlsx.csv\")\n",
        "RANDOM_STATE = 42"
      ],
      "metadata": {
        "id": "ECK7URWLVJz1"
      },
      "execution_count": null,
      "outputs": []
    },
    {
      "cell_type": "markdown",
      "source": [
        "2. Load the data and inspect"
      ],
      "metadata": {
        "id": "UFksKgkTVun2"
      }
    },
    {
      "cell_type": "code",
      "source": [
        "# Step 2: load and inspect\n",
        "df = pd.read_csv(\"/content/manufacturing_dataset_1000_samples.xlsx.csv\")\n",
        "print(\"Rows, Columns:\", df.shape)\n",
        "df.head(5)"
      ],
      "metadata": {
        "colab": {
          "base_uri": "https://localhost:8080/",
          "height": 417
        },
        "id": "8xlk8XgpVJwa",
        "outputId": "a972502e-f210-4411-ead2-5b59a808e2ce"
      },
      "execution_count": null,
      "outputs": [
        {
          "output_type": "stream",
          "name": "stdout",
          "text": [
            "Rows, Columns: (1000, 19)\n"
          ]
        },
        {
          "output_type": "execute_result",
          "data": {
            "text/plain": [
              "             Timestamp  Injection_Temperature  Injection_Pressure  Cycle_Time  \\\n",
              "0  2023-01-01 00:00:00                  221.0               136.0        28.7   \n",
              "1  2023-01-01 01:00:00                  213.3               128.9        34.5   \n",
              "2  2023-01-01 02:00:00                  222.8               115.9        19.9   \n",
              "3  2023-01-01 03:00:00                  233.3               105.3        39.2   \n",
              "4  2023-01-01 04:00:00                  212.2               125.5        45.0   \n",
              "\n",
              "   Cooling_Time  Material_Viscosity  Ambient_Temperature  Machine_Age  \\\n",
              "0          13.6               375.5                 28.0          3.8   \n",
              "1          14.0               215.8                 22.6          6.8   \n",
              "2           9.5               307.0                 25.3          4.2   \n",
              "3          13.1               137.8                 26.0          9.2   \n",
              "4           9.9               298.2                 23.6          6.2   \n",
              "\n",
              "   Operator_Experience  Maintenance_Hours    Shift Machine_Type  \\\n",
              "0                 11.2                 64  Evening       Type_B   \n",
              "1                  6.3                 58    Night       Type_A   \n",
              "2                  9.6                 47      Day       Type_A   \n",
              "3                  8.6                 49  Evening       Type_A   \n",
              "4                 23.0                 49    Night       Type_B   \n",
              "\n",
              "  Material_Grade Day_of_Week  Temperature_Pressure_Ratio  Total_Cycle_Time  \\\n",
              "0        Economy    Thursday                       1.625              42.3   \n",
              "1       Standard   Wednesday                       1.655              48.5   \n",
              "2       Standard      Monday                       1.922              29.4   \n",
              "3        Premium    Saturday                       2.215              52.3   \n",
              "4        Premium      Monday                       1.691              54.9   \n",
              "\n",
              "   Efficiency_Score  Machine_Utilization  Parts_Per_Hour  \n",
              "0             0.063                0.510            36.5  \n",
              "1             0.037                0.389            29.9  \n",
              "2             0.061                0.551            56.9  \n",
              "3             0.054                0.293            31.0  \n",
              "4             0.145                0.443            15.0  "
            ],
            "text/html": [
              "\n",
              "  <div id=\"df-6fb29244-d651-46fa-8f4e-f3f903362119\" class=\"colab-df-container\">\n",
              "    <div>\n",
              "<style scoped>\n",
              "    .dataframe tbody tr th:only-of-type {\n",
              "        vertical-align: middle;\n",
              "    }\n",
              "\n",
              "    .dataframe tbody tr th {\n",
              "        vertical-align: top;\n",
              "    }\n",
              "\n",
              "    .dataframe thead th {\n",
              "        text-align: right;\n",
              "    }\n",
              "</style>\n",
              "<table border=\"1\" class=\"dataframe\">\n",
              "  <thead>\n",
              "    <tr style=\"text-align: right;\">\n",
              "      <th></th>\n",
              "      <th>Timestamp</th>\n",
              "      <th>Injection_Temperature</th>\n",
              "      <th>Injection_Pressure</th>\n",
              "      <th>Cycle_Time</th>\n",
              "      <th>Cooling_Time</th>\n",
              "      <th>Material_Viscosity</th>\n",
              "      <th>Ambient_Temperature</th>\n",
              "      <th>Machine_Age</th>\n",
              "      <th>Operator_Experience</th>\n",
              "      <th>Maintenance_Hours</th>\n",
              "      <th>Shift</th>\n",
              "      <th>Machine_Type</th>\n",
              "      <th>Material_Grade</th>\n",
              "      <th>Day_of_Week</th>\n",
              "      <th>Temperature_Pressure_Ratio</th>\n",
              "      <th>Total_Cycle_Time</th>\n",
              "      <th>Efficiency_Score</th>\n",
              "      <th>Machine_Utilization</th>\n",
              "      <th>Parts_Per_Hour</th>\n",
              "    </tr>\n",
              "  </thead>\n",
              "  <tbody>\n",
              "    <tr>\n",
              "      <th>0</th>\n",
              "      <td>2023-01-01 00:00:00</td>\n",
              "      <td>221.0</td>\n",
              "      <td>136.0</td>\n",
              "      <td>28.7</td>\n",
              "      <td>13.6</td>\n",
              "      <td>375.5</td>\n",
              "      <td>28.0</td>\n",
              "      <td>3.8</td>\n",
              "      <td>11.2</td>\n",
              "      <td>64</td>\n",
              "      <td>Evening</td>\n",
              "      <td>Type_B</td>\n",
              "      <td>Economy</td>\n",
              "      <td>Thursday</td>\n",
              "      <td>1.625</td>\n",
              "      <td>42.3</td>\n",
              "      <td>0.063</td>\n",
              "      <td>0.510</td>\n",
              "      <td>36.5</td>\n",
              "    </tr>\n",
              "    <tr>\n",
              "      <th>1</th>\n",
              "      <td>2023-01-01 01:00:00</td>\n",
              "      <td>213.3</td>\n",
              "      <td>128.9</td>\n",
              "      <td>34.5</td>\n",
              "      <td>14.0</td>\n",
              "      <td>215.8</td>\n",
              "      <td>22.6</td>\n",
              "      <td>6.8</td>\n",
              "      <td>6.3</td>\n",
              "      <td>58</td>\n",
              "      <td>Night</td>\n",
              "      <td>Type_A</td>\n",
              "      <td>Standard</td>\n",
              "      <td>Wednesday</td>\n",
              "      <td>1.655</td>\n",
              "      <td>48.5</td>\n",
              "      <td>0.037</td>\n",
              "      <td>0.389</td>\n",
              "      <td>29.9</td>\n",
              "    </tr>\n",
              "    <tr>\n",
              "      <th>2</th>\n",
              "      <td>2023-01-01 02:00:00</td>\n",
              "      <td>222.8</td>\n",
              "      <td>115.9</td>\n",
              "      <td>19.9</td>\n",
              "      <td>9.5</td>\n",
              "      <td>307.0</td>\n",
              "      <td>25.3</td>\n",
              "      <td>4.2</td>\n",
              "      <td>9.6</td>\n",
              "      <td>47</td>\n",
              "      <td>Day</td>\n",
              "      <td>Type_A</td>\n",
              "      <td>Standard</td>\n",
              "      <td>Monday</td>\n",
              "      <td>1.922</td>\n",
              "      <td>29.4</td>\n",
              "      <td>0.061</td>\n",
              "      <td>0.551</td>\n",
              "      <td>56.9</td>\n",
              "    </tr>\n",
              "    <tr>\n",
              "      <th>3</th>\n",
              "      <td>2023-01-01 03:00:00</td>\n",
              "      <td>233.3</td>\n",
              "      <td>105.3</td>\n",
              "      <td>39.2</td>\n",
              "      <td>13.1</td>\n",
              "      <td>137.8</td>\n",
              "      <td>26.0</td>\n",
              "      <td>9.2</td>\n",
              "      <td>8.6</td>\n",
              "      <td>49</td>\n",
              "      <td>Evening</td>\n",
              "      <td>Type_A</td>\n",
              "      <td>Premium</td>\n",
              "      <td>Saturday</td>\n",
              "      <td>2.215</td>\n",
              "      <td>52.3</td>\n",
              "      <td>0.054</td>\n",
              "      <td>0.293</td>\n",
              "      <td>31.0</td>\n",
              "    </tr>\n",
              "    <tr>\n",
              "      <th>4</th>\n",
              "      <td>2023-01-01 04:00:00</td>\n",
              "      <td>212.2</td>\n",
              "      <td>125.5</td>\n",
              "      <td>45.0</td>\n",
              "      <td>9.9</td>\n",
              "      <td>298.2</td>\n",
              "      <td>23.6</td>\n",
              "      <td>6.2</td>\n",
              "      <td>23.0</td>\n",
              "      <td>49</td>\n",
              "      <td>Night</td>\n",
              "      <td>Type_B</td>\n",
              "      <td>Premium</td>\n",
              "      <td>Monday</td>\n",
              "      <td>1.691</td>\n",
              "      <td>54.9</td>\n",
              "      <td>0.145</td>\n",
              "      <td>0.443</td>\n",
              "      <td>15.0</td>\n",
              "    </tr>\n",
              "  </tbody>\n",
              "</table>\n",
              "</div>\n",
              "    <div class=\"colab-df-buttons\">\n",
              "\n",
              "  <div class=\"colab-df-container\">\n",
              "    <button class=\"colab-df-convert\" onclick=\"convertToInteractive('df-6fb29244-d651-46fa-8f4e-f3f903362119')\"\n",
              "            title=\"Convert this dataframe to an interactive table.\"\n",
              "            style=\"display:none;\">\n",
              "\n",
              "  <svg xmlns=\"http://www.w3.org/2000/svg\" height=\"24px\" viewBox=\"0 -960 960 960\">\n",
              "    <path d=\"M120-120v-720h720v720H120Zm60-500h600v-160H180v160Zm220 220h160v-160H400v160Zm0 220h160v-160H400v160ZM180-400h160v-160H180v160Zm440 0h160v-160H620v160ZM180-180h160v-160H180v160Zm440 0h160v-160H620v160Z\"/>\n",
              "  </svg>\n",
              "    </button>\n",
              "\n",
              "  <style>\n",
              "    .colab-df-container {\n",
              "      display:flex;\n",
              "      gap: 12px;\n",
              "    }\n",
              "\n",
              "    .colab-df-convert {\n",
              "      background-color: #E8F0FE;\n",
              "      border: none;\n",
              "      border-radius: 50%;\n",
              "      cursor: pointer;\n",
              "      display: none;\n",
              "      fill: #1967D2;\n",
              "      height: 32px;\n",
              "      padding: 0 0 0 0;\n",
              "      width: 32px;\n",
              "    }\n",
              "\n",
              "    .colab-df-convert:hover {\n",
              "      background-color: #E2EBFA;\n",
              "      box-shadow: 0px 1px 2px rgba(60, 64, 67, 0.3), 0px 1px 3px 1px rgba(60, 64, 67, 0.15);\n",
              "      fill: #174EA6;\n",
              "    }\n",
              "\n",
              "    .colab-df-buttons div {\n",
              "      margin-bottom: 4px;\n",
              "    }\n",
              "\n",
              "    [theme=dark] .colab-df-convert {\n",
              "      background-color: #3B4455;\n",
              "      fill: #D2E3FC;\n",
              "    }\n",
              "\n",
              "    [theme=dark] .colab-df-convert:hover {\n",
              "      background-color: #434B5C;\n",
              "      box-shadow: 0px 1px 3px 1px rgba(0, 0, 0, 0.15);\n",
              "      filter: drop-shadow(0px 1px 2px rgba(0, 0, 0, 0.3));\n",
              "      fill: #FFFFFF;\n",
              "    }\n",
              "  </style>\n",
              "\n",
              "    <script>\n",
              "      const buttonEl =\n",
              "        document.querySelector('#df-6fb29244-d651-46fa-8f4e-f3f903362119 button.colab-df-convert');\n",
              "      buttonEl.style.display =\n",
              "        google.colab.kernel.accessAllowed ? 'block' : 'none';\n",
              "\n",
              "      async function convertToInteractive(key) {\n",
              "        const element = document.querySelector('#df-6fb29244-d651-46fa-8f4e-f3f903362119');\n",
              "        const dataTable =\n",
              "          await google.colab.kernel.invokeFunction('convertToInteractive',\n",
              "                                                    [key], {});\n",
              "        if (!dataTable) return;\n",
              "\n",
              "        const docLinkHtml = 'Like what you see? Visit the ' +\n",
              "          '<a target=\"_blank\" href=https://colab.research.google.com/notebooks/data_table.ipynb>data table notebook</a>'\n",
              "          + ' to learn more about interactive tables.';\n",
              "        element.innerHTML = '';\n",
              "        dataTable['output_type'] = 'display_data';\n",
              "        await google.colab.output.renderOutput(dataTable, element);\n",
              "        const docLink = document.createElement('div');\n",
              "        docLink.innerHTML = docLinkHtml;\n",
              "        element.appendChild(docLink);\n",
              "      }\n",
              "    </script>\n",
              "  </div>\n",
              "\n",
              "\n",
              "    <div id=\"df-b9b49bb7-d56e-4b08-9a17-8ef7807148e5\">\n",
              "      <button class=\"colab-df-quickchart\" onclick=\"quickchart('df-b9b49bb7-d56e-4b08-9a17-8ef7807148e5')\"\n",
              "                title=\"Suggest charts\"\n",
              "                style=\"display:none;\">\n",
              "\n",
              "<svg xmlns=\"http://www.w3.org/2000/svg\" height=\"24px\"viewBox=\"0 0 24 24\"\n",
              "     width=\"24px\">\n",
              "    <g>\n",
              "        <path d=\"M19 3H5c-1.1 0-2 .9-2 2v14c0 1.1.9 2 2 2h14c1.1 0 2-.9 2-2V5c0-1.1-.9-2-2-2zM9 17H7v-7h2v7zm4 0h-2V7h2v10zm4 0h-2v-4h2v4z\"/>\n",
              "    </g>\n",
              "</svg>\n",
              "      </button>\n",
              "\n",
              "<style>\n",
              "  .colab-df-quickchart {\n",
              "      --bg-color: #E8F0FE;\n",
              "      --fill-color: #1967D2;\n",
              "      --hover-bg-color: #E2EBFA;\n",
              "      --hover-fill-color: #174EA6;\n",
              "      --disabled-fill-color: #AAA;\n",
              "      --disabled-bg-color: #DDD;\n",
              "  }\n",
              "\n",
              "  [theme=dark] .colab-df-quickchart {\n",
              "      --bg-color: #3B4455;\n",
              "      --fill-color: #D2E3FC;\n",
              "      --hover-bg-color: #434B5C;\n",
              "      --hover-fill-color: #FFFFFF;\n",
              "      --disabled-bg-color: #3B4455;\n",
              "      --disabled-fill-color: #666;\n",
              "  }\n",
              "\n",
              "  .colab-df-quickchart {\n",
              "    background-color: var(--bg-color);\n",
              "    border: none;\n",
              "    border-radius: 50%;\n",
              "    cursor: pointer;\n",
              "    display: none;\n",
              "    fill: var(--fill-color);\n",
              "    height: 32px;\n",
              "    padding: 0;\n",
              "    width: 32px;\n",
              "  }\n",
              "\n",
              "  .colab-df-quickchart:hover {\n",
              "    background-color: var(--hover-bg-color);\n",
              "    box-shadow: 0 1px 2px rgba(60, 64, 67, 0.3), 0 1px 3px 1px rgba(60, 64, 67, 0.15);\n",
              "    fill: var(--button-hover-fill-color);\n",
              "  }\n",
              "\n",
              "  .colab-df-quickchart-complete:disabled,\n",
              "  .colab-df-quickchart-complete:disabled:hover {\n",
              "    background-color: var(--disabled-bg-color);\n",
              "    fill: var(--disabled-fill-color);\n",
              "    box-shadow: none;\n",
              "  }\n",
              "\n",
              "  .colab-df-spinner {\n",
              "    border: 2px solid var(--fill-color);\n",
              "    border-color: transparent;\n",
              "    border-bottom-color: var(--fill-color);\n",
              "    animation:\n",
              "      spin 1s steps(1) infinite;\n",
              "  }\n",
              "\n",
              "  @keyframes spin {\n",
              "    0% {\n",
              "      border-color: transparent;\n",
              "      border-bottom-color: var(--fill-color);\n",
              "      border-left-color: var(--fill-color);\n",
              "    }\n",
              "    20% {\n",
              "      border-color: transparent;\n",
              "      border-left-color: var(--fill-color);\n",
              "      border-top-color: var(--fill-color);\n",
              "    }\n",
              "    30% {\n",
              "      border-color: transparent;\n",
              "      border-left-color: var(--fill-color);\n",
              "      border-top-color: var(--fill-color);\n",
              "      border-right-color: var(--fill-color);\n",
              "    }\n",
              "    40% {\n",
              "      border-color: transparent;\n",
              "      border-right-color: var(--fill-color);\n",
              "      border-top-color: var(--fill-color);\n",
              "    }\n",
              "    60% {\n",
              "      border-color: transparent;\n",
              "      border-right-color: var(--fill-color);\n",
              "    }\n",
              "    80% {\n",
              "      border-color: transparent;\n",
              "      border-right-color: var(--fill-color);\n",
              "      border-bottom-color: var(--fill-color);\n",
              "    }\n",
              "    90% {\n",
              "      border-color: transparent;\n",
              "      border-bottom-color: var(--fill-color);\n",
              "    }\n",
              "  }\n",
              "</style>\n",
              "\n",
              "      <script>\n",
              "        async function quickchart(key) {\n",
              "          const quickchartButtonEl =\n",
              "            document.querySelector('#' + key + ' button');\n",
              "          quickchartButtonEl.disabled = true;  // To prevent multiple clicks.\n",
              "          quickchartButtonEl.classList.add('colab-df-spinner');\n",
              "          try {\n",
              "            const charts = await google.colab.kernel.invokeFunction(\n",
              "                'suggestCharts', [key], {});\n",
              "          } catch (error) {\n",
              "            console.error('Error during call to suggestCharts:', error);\n",
              "          }\n",
              "          quickchartButtonEl.classList.remove('colab-df-spinner');\n",
              "          quickchartButtonEl.classList.add('colab-df-quickchart-complete');\n",
              "        }\n",
              "        (() => {\n",
              "          let quickchartButtonEl =\n",
              "            document.querySelector('#df-b9b49bb7-d56e-4b08-9a17-8ef7807148e5 button');\n",
              "          quickchartButtonEl.style.display =\n",
              "            google.colab.kernel.accessAllowed ? 'block' : 'none';\n",
              "        })();\n",
              "      </script>\n",
              "    </div>\n",
              "\n",
              "    </div>\n",
              "  </div>\n"
            ],
            "application/vnd.google.colaboratory.intrinsic+json": {
              "type": "dataframe",
              "variable_name": "df",
              "summary": "{\n  \"name\": \"df\",\n  \"rows\": 1000,\n  \"fields\": [\n    {\n      \"column\": \"Timestamp\",\n      \"properties\": {\n        \"dtype\": \"object\",\n        \"num_unique_values\": 1000,\n        \"samples\": [\n          \"2023-01-22 17:00:00\",\n          \"2023-01-31 17:00:00\",\n          \"2023-01-31 20:00:00\"\n        ],\n        \"semantic_type\": \"\",\n        \"description\": \"\"\n      }\n    },\n    {\n      \"column\": \"Injection_Temperature\",\n      \"properties\": {\n        \"dtype\": \"number\",\n        \"std\": 11.995507049699043,\n        \"min\": 180.0,\n        \"max\": 300.0,\n        \"num_unique_values\": 417,\n        \"samples\": [\n          209.6,\n          213.0,\n          185.9\n        ],\n        \"semantic_type\": \"\",\n        \"description\": \"\"\n      }\n    },\n    {\n      \"column\": \"Injection_Pressure\",\n      \"properties\": {\n        \"dtype\": \"number\",\n        \"std\": 14.667245927681963,\n        \"min\": 80.0,\n        \"max\": 150.0,\n        \"num_unique_values\": 465,\n        \"samples\": [\n          109.4,\n          127.8,\n          107.8\n        ],\n        \"semantic_type\": \"\",\n        \"description\": \"\"\n      }\n    },\n    {\n      \"column\": \"Cycle_Time\",\n      \"properties\": {\n        \"dtype\": \"number\",\n        \"std\": 8.353490163273577,\n        \"min\": 16.3,\n        \"max\": 60.0,\n        \"num_unique_values\": 249,\n        \"samples\": [\n          19.8,\n          27.8,\n          39.8\n        ],\n        \"semantic_type\": \"\",\n        \"description\": \"\"\n      }\n    },\n    {\n      \"column\": \"Cooling_Time\",\n      \"properties\": {\n        \"dtype\": \"number\",\n        \"std\": 2.304289806320269,\n        \"min\": 8.0,\n        \"max\": 19.9,\n        \"num_unique_values\": 99,\n        \"samples\": [\n          13.4,\n          13.5,\n          16.3\n        ],\n        \"semantic_type\": \"\",\n        \"description\": \"\"\n      }\n    },\n    {\n      \"column\": \"Material_Viscosity\",\n      \"properties\": {\n        \"dtype\": \"number\",\n        \"std\": 73.34869457887392,\n        \"min\": 104.6,\n        \"max\": 1000.0,\n        \"num_unique_values\": 769,\n        \"samples\": [\n          232.1,\n          230.4,\n          201.7\n        ],\n        \"semantic_type\": \"\",\n        \"description\": \"\"\n      }\n    },\n    {\n      \"column\": \"Ambient_Temperature\",\n      \"properties\": {\n        \"dtype\": \"number\",\n        \"std\": 2.7737118738900755,\n        \"min\": 18.0,\n        \"max\": 28.0,\n        \"num_unique_values\": 101,\n        \"samples\": [\n          19.7,\n          27.5,\n          25.9\n        ],\n        \"semantic_type\": \"\",\n        \"description\": \"\"\n      }\n    },\n    {\n      \"column\": \"Machine_Age\",\n      \"properties\": {\n        \"dtype\": \"number\",\n        \"std\": 3.9007975353011366,\n        \"min\": 1.0,\n        \"max\": 15.0,\n        \"num_unique_values\": 141,\n        \"samples\": [\n          8.2,\n          9.7,\n          7.0\n        ],\n        \"semantic_type\": \"\",\n        \"description\": \"\"\n      }\n    },\n    {\n      \"column\": \"Operator_Experience\",\n      \"properties\": {\n        \"dtype\": \"number\",\n        \"std\": 27.6847687786637,\n        \"min\": 1.0,\n        \"max\": 120.0,\n        \"num_unique_values\": 518,\n        \"samples\": [\n          2.7,\n          32.1,\n          88.0\n        ],\n        \"semantic_type\": \"\",\n        \"description\": \"\"\n      }\n    },\n    {\n      \"column\": \"Maintenance_Hours\",\n      \"properties\": {\n        \"dtype\": \"number\",\n        \"std\": 16,\n        \"min\": 26,\n        \"max\": 500,\n        \"num_unique_values\": 47,\n        \"samples\": [\n          40,\n          37,\n          62\n        ],\n        \"semantic_type\": \"\",\n        \"description\": \"\"\n      }\n    },\n    {\n      \"column\": \"Shift\",\n      \"properties\": {\n        \"dtype\": \"category\",\n        \"num_unique_values\": 3,\n        \"samples\": [\n          \"Evening\",\n          \"Night\",\n          \"Day\"\n        ],\n        \"semantic_type\": \"\",\n        \"description\": \"\"\n      }\n    },\n    {\n      \"column\": \"Machine_Type\",\n      \"properties\": {\n        \"dtype\": \"category\",\n        \"num_unique_values\": 3,\n        \"samples\": [\n          \"Type_B\",\n          \"Type_A\",\n          \"Type_C\"\n        ],\n        \"semantic_type\": \"\",\n        \"description\": \"\"\n      }\n    },\n    {\n      \"column\": \"Material_Grade\",\n      \"properties\": {\n        \"dtype\": \"category\",\n        \"num_unique_values\": 3,\n        \"samples\": [\n          \"Economy\",\n          \"Standard\",\n          \"Premium\"\n        ],\n        \"semantic_type\": \"\",\n        \"description\": \"\"\n      }\n    },\n    {\n      \"column\": \"Day_of_Week\",\n      \"properties\": {\n        \"dtype\": \"category\",\n        \"num_unique_values\": 7,\n        \"samples\": [\n          \"Thursday\",\n          \"Wednesday\",\n          \"Sunday\"\n        ],\n        \"semantic_type\": \"\",\n        \"description\": \"\"\n      }\n    },\n    {\n      \"column\": \"Temperature_Pressure_Ratio\",\n      \"properties\": {\n        \"dtype\": \"number\",\n        \"std\": 0.2743230709277714,\n        \"min\": 1.286,\n        \"max\": 2.843,\n        \"num_unique_values\": 629,\n        \"samples\": [\n          1.848,\n          2.322,\n          2.316\n        ],\n        \"semantic_type\": \"\",\n        \"description\": \"\"\n      }\n    },\n    {\n      \"column\": \"Total_Cycle_Time\",\n      \"properties\": {\n        \"dtype\": \"number\",\n        \"std\": 8.671153320054941,\n        \"min\": 24.6,\n        \"max\": 64.9,\n        \"num_unique_values\": 307,\n        \"samples\": [\n          50.3,\n          54.5,\n          41.4\n        ],\n        \"semantic_type\": \"\",\n        \"description\": \"\"\n      }\n    },\n    {\n      \"column\": \"Efficiency_Score\",\n      \"properties\": {\n        \"dtype\": \"number\",\n        \"std\": 0.1738392036472921,\n        \"min\": 0.006,\n        \"max\": 0.84,\n        \"num_unique_values\": 421,\n        \"samples\": [\n          0.206,\n          0.237,\n          0.175\n        ],\n        \"semantic_type\": \"\",\n        \"description\": \"\"\n      }\n    },\n    {\n      \"column\": \"Machine_Utilization\",\n      \"properties\": {\n        \"dtype\": \"number\",\n        \"std\": 0.1956097565072888,\n        \"min\": 0.001,\n        \"max\": 0.755,\n        \"num_unique_values\": 541,\n        \"samples\": [\n          0.088,\n          0.18,\n          0.416\n        ],\n        \"semantic_type\": \"\",\n        \"description\": \"\"\n      }\n    },\n    {\n      \"column\": \"Parts_Per_Hour\",\n      \"properties\": {\n        \"dtype\": \"number\",\n        \"std\": 11.95549665594407,\n        \"min\": 5.0,\n        \"max\": 68.6,\n        \"num_unique_values\": 352,\n        \"samples\": [\n          45.9,\n          51.3,\n          42.0\n        ],\n        \"semantic_type\": \"\",\n        \"description\": \"\"\n      }\n    }\n  ]\n}"
            }
          },
          "metadata": {},
          "execution_count": 4
        }
      ]
    },
    {
      "cell_type": "markdown",
      "source": [
        "3. Check for missing values and column names"
      ],
      "metadata": {
        "id": "TQz72Kf8VzIm"
      }
    },
    {
      "cell_type": "code",
      "source": [
        "# Step 3: missing values and columns\n",
        "print(\"Columns:\", df.columns.tolist())\n",
        "print(\"\\nMissing values:\\n\", df.isnull().sum())"
      ],
      "metadata": {
        "id": "J6-bDTVJVJto",
        "colab": {
          "base_uri": "https://localhost:8080/"
        },
        "outputId": "97868aae-e4ba-4e55-b650-35772541dfff"
      },
      "execution_count": null,
      "outputs": [
        {
          "output_type": "stream",
          "name": "stdout",
          "text": [
            "Columns: ['Timestamp', 'Injection_Temperature', 'Injection_Pressure', 'Cycle_Time', 'Cooling_Time', 'Material_Viscosity', 'Ambient_Temperature', 'Machine_Age', 'Operator_Experience', 'Maintenance_Hours', 'Shift', 'Machine_Type', 'Material_Grade', 'Day_of_Week', 'Temperature_Pressure_Ratio', 'Total_Cycle_Time', 'Efficiency_Score', 'Machine_Utilization', 'Parts_Per_Hour']\n",
            "\n",
            "Missing values:\n",
            " Timestamp                      0\n",
            "Injection_Temperature          0\n",
            "Injection_Pressure             0\n",
            "Cycle_Time                     0\n",
            "Cooling_Time                   0\n",
            "Material_Viscosity            20\n",
            "Ambient_Temperature           20\n",
            "Machine_Age                    0\n",
            "Operator_Experience           20\n",
            "Maintenance_Hours              0\n",
            "Shift                          0\n",
            "Machine_Type                   0\n",
            "Material_Grade                 0\n",
            "Day_of_Week                    0\n",
            "Temperature_Pressure_Ratio     0\n",
            "Total_Cycle_Time               0\n",
            "Efficiency_Score               0\n",
            "Machine_Utilization            0\n",
            "Parts_Per_Hour                 0\n",
            "dtype: int64\n"
          ]
        }
      ]
    },
    {
      "cell_type": "markdown",
      "source": [
        "4. Simple EDA: distribution of target and a pairwise view"
      ],
      "metadata": {
        "id": "y8RpGU2FV4ah"
      }
    },
    {
      "cell_type": "code",
      "source": [
        "# Step 4: simple exploratory plots\n",
        "plt.figure(figsize=(7,4))\n",
        "sns.histplot(df['Parts_Per_Hour'], bins=30, kde=True)\n",
        "plt.title('Parts_Per_Hour distribution')\n",
        "plt.show()\n",
        "\n",
        "# Quick scatter: Parts_Per_Hour vs Cycle_Time (example)\n",
        "plt.figure(figsize=(6,4))\n",
        "plt.scatter(df['Cycle_Time'], df['Parts_Per_Hour'], alpha=0.6)\n",
        "plt.xlabel('Cycle_Time')\n",
        "plt.ylabel('Parts_Per_Hour')\n",
        "plt.title('Parts_Per_Hour vs Cycle_Time')\n",
        "plt.show()"
      ],
      "metadata": {
        "id": "1ksdNaUXVJqo",
        "colab": {
          "base_uri": "https://localhost:8080/",
          "height": 788
        },
        "outputId": "cc7a7877-0062-4ae2-aaec-8fe5999753f2"
      },
      "execution_count": null,
      "outputs": [
        {
          "output_type": "display_data",
          "data": {
            "text/plain": [
              "<Figure size 700x400 with 1 Axes>"
            ],
            "image/png": "[encoded data removed]"
          },
          "metadata": {}
        },
        {
          "output_type": "display_data",
          "data": {
            "text/plain": [
              "<Figure size 600x400 with 1 Axes>"
            ],
            "image/png": "[encoded data removed]"
          },
          "metadata": {}
        }
      ]
    },
    {
      "cell_type": "markdown",
      "source": [
        "5. Handle missing values (simple and transparent)"
      ],
      "metadata": {
        "id": "FjcLDHzQV_Sm"
      }
    },
    {
      "cell_type": "code",
      "source": [
        "# Step 5: handle missing values in an explicit, simple way\n",
        "\n",
        "# columns mentioned earlier as having missing values\n",
        "# we'll fill numeric columns with median (robust) and categorical with mode\n",
        "\n",
        "numeric_fill_cols = ['Material_Viscosity', 'Ambient_Temperature', 'Operator_Experience']\n",
        "for c in numeric_fill_cols:\n",
        "    if c in df.columns:\n",
        "        median_val = df[c].median()\n",
        "        df[c] = df[c].fillna(median_val)\n",
        "        print(f\"Filled {c} missing with median: {median_val}\")\n",
        "\n",
        "# If any categorical had missing, fill with most frequent value (example)\n",
        "cat_cols = ['Shift', 'Machine_Type', 'Material_Grade', 'Day_of_Week']\n",
        "for c in cat_cols:\n",
        "    if c in df.columns:\n",
        "        mode_val = df[c].mode()[0]\n",
        "        df[c] = df[c].fillna(mode_val)\n",
        "        print(f\"Filled {c} missing with mode: {mode_val}\")"
      ],
      "metadata": {
        "id": "ws45KpJOVJnm",
        "colab": {
          "base_uri": "https://localhost:8080/"
        },
        "outputId": "ea9612ea-246c-4cd1-a180-5b3df140e95d"
      },
      "execution_count": null,
      "outputs": [
        {
          "output_type": "stream",
          "name": "stdout",
          "text": [
            "Filled Material_Viscosity missing with median: 242.7\n",
            "Filled Ambient_Temperature missing with median: 22.9\n",
            "Filled Operator_Experience missing with median: 22.1\n",
            "Filled Shift missing with mode: Day\n",
            "Filled Machine_Type missing with mode: Type_A\n",
            "Filled Material_Grade missing with mode: Standard\n",
            "Filled Day_of_Week missing with mode: Friday\n"
          ]
        }
      ]
    },
    {
      "cell_type": "markdown",
      "source": [
        "6. Prepare features and target\n"
      ],
      "metadata": {
        "id": "H3UqXe-aWElr"
      }
    },
    {
      "cell_type": "code",
      "source": [
        "# Step 6: features and target\n",
        "target = 'Parts_Per_Hour'\n",
        "\n",
        "# define categorical and numeric feature lists (explicit so teacher can see)\n",
        "categorical_features = ['Shift', 'Machine_Type', 'Material_Grade', 'Day_of_Week']\n",
        "# numeric: take all numeric columns except the target\n",
        "numeric_features = [c for c in df.select_dtypes(include=np.number).columns.tolist() if c != target]\n",
        "\n",
        "print(\"Numeric features:\", numeric_features)\n",
        "print(\"Categorical features:\", categorical_features)\n",
        "\n",
        "# X and y\n",
        "X = df[numeric_features + [c for c in categorical_features if c in df.columns]]\n",
        "y = df[target]"
      ],
      "metadata": {
        "id": "Gshlq7BdVJkD",
        "colab": {
          "base_uri": "https://localhost:8080/"
        },
        "outputId": "fde58f25-e2fb-4ab1-c9c8-6a46b8efa9cd"
      },
      "execution_count": null,
      "outputs": [
        {
          "output_type": "stream",
          "name": "stdout",
          "text": [
            "Numeric features: ['Injection_Temperature', 'Injection_Pressure', 'Cycle_Time', 'Cooling_Time', 'Material_Viscosity', 'Ambient_Temperature', 'Machine_Age', 'Operator_Experience', 'Maintenance_Hours', 'Temperature_Pressure_Ratio', 'Total_Cycle_Time', 'Efficiency_Score', 'Machine_Utilization']\n",
            "Categorical features: ['Shift', 'Machine_Type', 'Material_Grade', 'Day_of_Week']\n"
          ]
        }
      ]
    },
    {
      "cell_type": "markdown",
      "source": [
        "7. Split into train and test"
      ],
      "metadata": {
        "id": "5rsAZIevWLHh"
      }
    },
    {
      "cell_type": "code",
      "source": [
        "# Step 7: train-test split\n",
        "X_train, X_test, y_train, y_test = train_test_split(\n",
        "    X, y, test_size=0.2, random_state=RANDOM_STATE\n",
        ")\n",
        "print(\"Train size:\", X_train.shape, \"Test size:\", X_test.shape)"
      ],
      "metadata": {
        "id": "C9ShW4xAVJhU",
        "colab": {
          "base_uri": "https://localhost:8080/"
        },
        "outputId": "ebc9ae1b-8da6-4371-d2af-4bbe307e58be"
      },
      "execution_count": null,
      "outputs": [
        {
          "output_type": "stream",
          "name": "stdout",
          "text": [
            "Train size: (800, 17) Test size: (200, 17)\n"
          ]
        }
      ]
    },
    {
      "cell_type": "markdown",
      "source": [
        "8. Preprocessing pipelines (impute again + scale + encode)"
      ],
      "metadata": {
        "id": "6gBRyXS_WQaA"
      }
    },
    {
      "cell_type": "code",
      "source": [
        "# Step 8: preprocessor: simple and clear\n",
        "\n",
        "# numeric transformer: impute (median) then scale\n",
        "numeric_transformer = Pipeline(steps=[\n",
        "    ('imputer', SimpleImputer(strategy='median')),\n",
        "    ('scaler', StandardScaler())\n",
        "])\n",
        "\n",
        "# categorical transformer: impute (most frequent) then one-hot encode\n",
        "categorical_transformer = Pipeline(steps=[\n",
        "    ('imputer', SimpleImputer(strategy='most_frequent')),\n",
        "    ('onehot', OneHotEncoder(handle_unknown='ignore'))\n",
        "])\n",
        "\n",
        "preprocessor = ColumnTransformer(transformers=[\n",
        "    ('num', numeric_transformer, numeric_features),\n",
        "    ('cat', categorical_transformer, [c for c in categorical_features if c in X.columns])\n",
        "])"
      ],
      "metadata": {
        "id": "wjDFssFQVJey"
      },
      "execution_count": null,
      "outputs": []
    },
    {
      "cell_type": "markdown",
      "source": [
        "9. Train a simple Linear Regression model (baseline)"
      ],
      "metadata": {
        "id": "GFxLgpLzWZNf"
      }
    },
    {
      "cell_type": "code",
      "source": [
        "# Step 9: pipeline with linear regression\n",
        "model_pipeline = Pipeline(steps=[\n",
        "    ('preprocessor', preprocessor),\n",
        "    ('regressor', LinearRegression())\n",
        "])\n",
        "\n",
        "# train\n",
        "model_pipeline.fit(X_train, y_train)\n",
        "print(\"Model trained (Linear Regression).\")"
      ],
      "metadata": {
        "id": "yNiK8LeiVJb4",
        "colab": {
          "base_uri": "https://localhost:8080/"
        },
        "outputId": "eafa52b1-ae85-4119-9bd0-6b614870fa4d"
      },
      "execution_count": null,
      "outputs": [
        {
          "output_type": "stream",
          "name": "stdout",
          "text": [
            "Model trained (Linear Regression).\n"
          ]
        }
      ]
    },
    {
      "cell_type": "markdown",
      "source": [
        "10. Evaluate the model (RMSE, MAE, R2)"
      ],
      "metadata": {
        "id": "qWQ2UpORWhQz"
      }
    },
    {
      "cell_type": "code",
      "source": [
        "# Step 10: evaluate on test set\n",
        "y_pred = model_pipeline.predict(X_test)\n",
        "\n",
        "mse = mean_squared_error(y_test, y_pred)\n",
        "rmse = np.sqrt(mse)\n",
        "mae = mean_absolute_error(y_test, y_pred)\n",
        "r2 = r2_score(y_test, y_pred)\n",
        "\n",
        "print(f\"Test MSE: {mse:.3f}\")\n",
        "print(f\"Test RMSE: {rmse:.3f}\")\n",
        "print(f\"Test MAE: {mae:.3f}\")\n",
        "print(f\"Test R2: {r2:.3f}\")\n",
        "\n",
        "# simple plot: true vs predicted\n",
        "plt.figure(figsize=(6,6))\n",
        "plt.scatter(y_test, y_pred, alpha=0.6)\n",
        "plt.plot([y_test.min(), y_test.max()], [y_test.min(), y_test.max()], 'r--')\n",
        "plt.xlabel('True Parts_Per_Hour')\n",
        "plt.ylabel('Predicted Parts_Per_Hour')\n",
        "plt.title('True vs Predicted (Test set)')\n",
        "plt.show()"
      ],
      "metadata": {
        "id": "R1k6cEpNVJYx",
        "colab": {
          "base_uri": "https://localhost:8080/",
          "height": 633
        },
        "outputId": "0f9667ed-5883-4f67-c00f-31310afb1ff1"
      },
      "execution_count": null,
      "outputs": [
        {
          "output_type": "stream",
          "name": "stdout",
          "text": [
            "Test MSE: 12.308\n",
            "Test RMSE: 3.508\n",
            "Test MAE: 2.718\n",
            "Test R2: 0.906\n"
          ]
        },
        {
          "output_type": "display_data",
          "data": {
            "text/plain": [
              "<Figure size 600x600 with 1 Axes>"
            ],
            "image/png": "[encoded data removed]"
          },
          "metadata": {}
        }
      ]
    },
    {
      "cell_type": "markdown",
      "source": [
        "11. (Optional) Try a slightly better regularized model (Ridge)"
      ],
      "metadata": {
        "id": "8QjpasbfWkek"
      }
    },
    {
      "cell_type": "code",
      "source": [
        "# Step 11: try Ridge regression for small improvement\n",
        "ridge_pipeline = Pipeline(steps=[\n",
        "    ('preprocessor', preprocessor),\n",
        "    ('regressor', Ridge(alpha=1.0, random_state=RANDOM_STATE))\n",
        "])\n",
        "\n",
        "ridge_pipeline.fit(X_train, y_train)\n",
        "y_pred_ridge = ridge_pipeline.predict(X_test)\n",
        "\n",
        "rmse_ridge = np.sqrt(mean_squared_error(y_test, y_pred_ridge))\n",
        "print(f\"Ridge RMSE on test: {rmse_ridge:.3f}\")\n",
        "\n",
        "# Choose better of the two\n",
        "if rmse_ridge < rmse:\n",
        "    final_model = ridge_pipeline\n",
        "    print(\"Ridge selected as final model.\")\n",
        "else:\n",
        "    final_model = model_pipeline\n",
        "    print(\"Linear Regression kept as final model.\")"
      ],
      "metadata": {
        "id": "J4mHUXW0VJVw",
        "colab": {
          "base_uri": "https://localhost:8080/"
        },
        "outputId": "c50831da-6589-4cdb-c706-a3cc9fbb2c43"
      },
      "execution_count": null,
      "outputs": [
        {
          "output_type": "stream",
          "name": "stdout",
          "text": [
            "Ridge RMSE on test: 3.508\n",
            "Linear Regression kept as final model.\n"
          ]
        }
      ]
    },
    {
      "cell_type": "markdown",
      "source": [
        "12. Save the final model to disk"
      ],
      "metadata": {
        "id": "dXn56ti7WxbF"
      }
    },
    {
      "cell_type": "code",
      "source": [
        "# Step 12: save model to model/model.joblib\n",
        "os.makedirs(\"model\", exist_ok=True)\n",
        "joblib.dump(final_model, \"model/model.joblib\")\n",
        "print(\"Saved final model to model/model.joblib\")"
      ],
      "metadata": {
        "id": "6anzHG9zWpj5",
        "colab": {
          "base_uri": "https://localhost:8080/"
        },
        "outputId": "8f97e692-9ea0-4bc0-d65f-56926c303bf4"
      },
      "execution_count": null,
      "outputs": [
        {
          "output_type": "stream",
          "name": "stdout",
          "text": [
            "Saved final model to model/model.joblib\n"
          ]
        }
      ]
    },
    {
      "cell_type": "code",
      "source": [
        "# Step 14: map coefficients to feature names (only for linear models)\n",
        "# this works if linear or ridge is used; get preprocessor and regressor\n",
        "pre = final_model.named_steps['preprocessor']\n",
        "reg = final_model.named_steps['regressor']\n",
        "\n",
        "# numeric feature names\n",
        "num_names = numeric_features\n",
        "\n",
        "# categorical feature names after one-hot\n",
        "ohe = pre.named_transformers_['cat'].named_steps['onehot']\n",
        "cat_names = list(ohe.get_feature_names_out([c for c in categorical_features if c in X.columns]))\n",
        "\n",
        "feature_names = num_names + cat_names\n",
        "coefficients = reg.coef_\n",
        "\n",
        "coef_df = pd.DataFrame({'feature': feature_names, 'coefficient': coefficients})\n",
        "coef_df = coef_df.reindex(coef_df.coefficient.abs().sort_values(ascending=False).index)\n",
        "coef_df.head(10)"
      ],
      "metadata": {
        "id": "jm7TTQzmXIMh",
        "colab": {
          "base_uri": "https://localhost:8080/",
          "height": 363
        },
        "outputId": "92a827c9-a3e4-4e25-dc63-bf0dcc1563f2"
      },
      "execution_count": null,
      "outputs": [
        {
          "output_type": "execute_result",
          "data": {
            "text/plain": [
              "                  feature   coefficient\n",
              "22     Day_of_Week_Friday -4.114573e+12\n",
              "25     Day_of_Week_Sunday -4.114573e+12\n",
              "24   Day_of_Week_Saturday -4.114573e+12\n",
              "23     Day_of_Week_Monday -4.114573e+12\n",
              "27    Day_of_Week_Tuesday -4.114573e+12\n",
              "26   Day_of_Week_Thursday -4.114573e+12\n",
              "28  Day_of_Week_Wednesday -4.114573e+12\n",
              "18    Machine_Type_Type_C -1.444896e+12\n",
              "17    Machine_Type_Type_B -1.444896e+12\n",
              "16    Machine_Type_Type_A -1.444896e+12"
            ],
            "text/html": [
              "\n",
              "  <div id=\"df-d2a7365f-d52e-48f1-926b-8d31b3dcdfe9\" class=\"colab-df-container\">\n",
              "    <div>\n",
              "<style scoped>\n",
              "    .dataframe tbody tr th:only-of-type {\n",
              "        vertical-align: middle;\n",
              "    }\n",
              "\n",
              "    .dataframe tbody tr th {\n",
              "        vertical-align: top;\n",
              "    }\n",
              "\n",
              "    .dataframe thead th {\n",
              "        text-align: right;\n",
              "    }\n",
              "</style>\n",
              "<table border=\"1\" class=\"dataframe\">\n",
              "  <thead>\n",
              "    <tr style=\"text-align: right;\">\n",
              "      <th></th>\n",
              "      <th>feature</th>\n",
              "      <th>coefficient</th>\n",
              "    </tr>\n",
              "  </thead>\n",
              "  <tbody>\n",
              "    <tr>\n",
              "      <th>22</th>\n",
              "      <td>Day_of_Week_Friday</td>\n",
              "      <td>-4.114573e+12</td>\n",
              "    </tr>\n",
              "    <tr>\n",
              "      <th>25</th>\n",
              "      <td>Day_of_Week_Sunday</td>\n",
              "      <td>-4.114573e+12</td>\n",
              "    </tr>\n",
              "    <tr>\n",
              "      <th>24</th>\n",
              "      <td>Day_of_Week_Saturday</td>\n",
              "      <td>-4.114573e+12</td>\n",
              "    </tr>\n",
              "    <tr>\n",
              "      <th>23</th>\n",
              "      <td>Day_of_Week_Monday</td>\n",
              "      <td>-4.114573e+12</td>\n",
              "    </tr>\n",
              "    <tr>\n",
              "      <th>27</th>\n",
              "      <td>Day_of_Week_Tuesday</td>\n",
              "      <td>-4.114573e+12</td>\n",
              "    </tr>\n",
              "    <tr>\n",
              "      <th>26</th>\n",
              "      <td>Day_of_Week_Thursday</td>\n",
              "      <td>-4.114573e+12</td>\n",
              "    </tr>\n",
              "    <tr>\n",
              "      <th>28</th>\n",
              "      <td>Day_of_Week_Wednesday</td>\n",
              "      <td>-4.114573e+12</td>\n",
              "    </tr>\n",
              "    <tr>\n",
              "      <th>18</th>\n",
              "      <td>Machine_Type_Type_C</td>\n",
              "      <td>-1.444896e+12</td>\n",
              "    </tr>\n",
              "    <tr>\n",
              "      <th>17</th>\n",
              "      <td>Machine_Type_Type_B</td>\n",
              "      <td>-1.444896e+12</td>\n",
              "    </tr>\n",
              "    <tr>\n",
              "      <th>16</th>\n",
              "      <td>Machine_Type_Type_A</td>\n",
              "      <td>-1.444896e+12</td>\n",
              "    </tr>\n",
              "  </tbody>\n",
              "</table>\n",
              "</div>\n",
              "    <div class=\"colab-df-buttons\">\n",
              "\n",
              "  <div class=\"colab-df-container\">\n",
              "    <button class=\"colab-df-convert\" onclick=\"convertToInteractive('df-d2a7365f-d52e-48f1-926b-8d31b3dcdfe9')\"\n",
              "            title=\"Convert this dataframe to an interactive table.\"\n",
              "            style=\"display:none;\">\n",
              "\n",
              "  <svg xmlns=\"http://www.w3.org/2000/svg\" height=\"24px\" viewBox=\"0 -960 960 960\">\n",
              "    <path d=\"M120-120v-720h720v720H120Zm60-500h600v-160H180v160Zm220 220h160v-160H400v160Zm0 220h160v-160H400v160ZM180-400h160v-160H180v160Zm440 0h160v-160H620v160ZM180-180h160v-160H180v160Zm440 0h160v-160H620v160Z\"/>\n",
              "  </svg>\n",
              "    </button>\n",
              "\n",
              "  <style>\n",
              "    .colab-df-container {\n",
              "      display:flex;\n",
              "      gap: 12px;\n",
              "    }\n",
              "\n",
              "    .colab-df-convert {\n",
              "      background-color: #E8F0FE;\n",
              "      border: none;\n",
              "      border-radius: 50%;\n",
              "      cursor: pointer;\n",
              "      display: none;\n",
              "      fill: #1967D2;\n",
              "      height: 32px;\n",
              "      padding: 0 0 0 0;\n",
              "      width: 32px;\n",
              "    }\n",
              "\n",
              "    .colab-df-convert:hover {\n",
              "      background-color: #E2EBFA;\n",
              "      box-shadow: 0px 1px 2px rgba(60, 64, 67, 0.3), 0px 1px 3px 1px rgba(60, 64, 67, 0.15);\n",
              "      fill: #174EA6;\n",
              "    }\n",
              "\n",
              "    .colab-df-buttons div {\n",
              "      margin-bottom: 4px;\n",
              "    }\n",
              "\n",
              "    [theme=dark] .colab-df-convert {\n",
              "      background-color: #3B4455;\n",
              "      fill: #D2E3FC;\n",
              "    }\n",
              "\n",
              "    [theme=dark] .colab-df-convert:hover {\n",
              "      background-color: #434B5C;\n",
              "      box-shadow: 0px 1px 3px 1px rgba(0, 0, 0, 0.15);\n",
              "      filter: drop-shadow(0px 1px 2px rgba(0, 0, 0, 0.3));\n",
              "      fill: #FFFFFF;\n",
              "    }\n",
              "  </style>\n",
              "\n",
              "    <script>\n",
              "      const buttonEl =\n",
              "        document.querySelector('#df-d2a7365f-d52e-48f1-926b-8d31b3dcdfe9 button.colab-df-convert');\n",
              "      buttonEl.style.display =\n",
              "        google.colab.kernel.accessAllowed ? 'block' : 'none';\n",
              "\n",
              "      async function convertToInteractive(key) {\n",
              "        const element = document.querySelector('#df-d2a7365f-d52e-48f1-926b-8d31b3dcdfe9');\n",
              "        const dataTable =\n",
              "          await google.colab.kernel.invokeFunction('convertToInteractive',\n",
              "                                                    [key], {});\n",
              "        if (!dataTable) return;\n",
              "\n",
              "        const docLinkHtml = 'Like what you see? Visit the ' +\n",
              "          '<a target=\"_blank\" href=https://colab.research.google.com/notebooks/data_table.ipynb>data table notebook</a>'\n",
              "          + ' to learn more about interactive tables.';\n",
              "        element.innerHTML = '';\n",
              "        dataTable['output_type'] = 'display_data';\n",
              "        await google.colab.output.renderOutput(dataTable, element);\n",
              "        const docLink = document.createElement('div');\n",
              "        docLink.innerHTML = docLinkHtml;\n",
              "        element.appendChild(docLink);\n",
              "      }\n",
              "    </script>\n",
              "  </div>\n",
              "\n",
              "\n",
              "    <div id=\"df-1cd91ab5-b4ad-47ae-b5d0-a2bfdd949eb1\">\n",
              "      <button class=\"colab-df-quickchart\" onclick=\"quickchart('df-1cd91ab5-b4ad-47ae-b5d0-a2bfdd949eb1')\"\n",
              "                title=\"Suggest charts\"\n",
              "                style=\"display:none;\">\n",
              "\n",
              "<svg xmlns=\"http://www.w3.org/2000/svg\" height=\"24px\"viewBox=\"0 0 24 24\"\n",
              "     width=\"24px\">\n",
              "    <g>\n",
              "        <path d=\"M19 3H5c-1.1 0-2 .9-2 2v14c0 1.1.9 2 2 2h14c1.1 0 2-.9 2-2V5c0-1.1-.9-2-2-2zM9 17H7v-7h2v7zm4 0h-2V7h2v10zm4 0h-2v-4h2v4z\"/>\n",
              "    </g>\n",
              "</svg>\n",
              "      </button>\n",
              "\n",
              "<style>\n",
              "  .colab-df-quickchart {\n",
              "      --bg-color: #E8F0FE;\n",
              "      --fill-color: #1967D2;\n",
              "      --hover-bg-color: #E2EBFA;\n",
              "      --hover-fill-color: #174EA6;\n",
              "      --disabled-fill-color: #AAA;\n",
              "      --disabled-bg-color: #DDD;\n",
              "  }\n",
              "\n",
              "  [theme=dark] .colab-df-quickchart {\n",
              "      --bg-color: #3B4455;\n",
              "      --fill-color: #D2E3FC;\n",
              "      --hover-bg-color: #434B5C;\n",
              "      --hover-fill-color: #FFFFFF;\n",
              "      --disabled-bg-color: #3B4455;\n",
              "      --disabled-fill-color: #666;\n",
              "  }\n",
              "\n",
              "  .colab-df-quickchart {\n",
              "    background-color: var(--bg-color);\n",
              "    border: none;\n",
              "    border-radius: 50%;\n",
              "    cursor: pointer;\n",
              "    display: none;\n",
              "    fill: var(--fill-color);\n",
              "    height: 32px;\n",
              "    padding: 0;\n",
              "    width: 32px;\n",
              "  }\n",
              "\n",
              "  .colab-df-quickchart:hover {\n",
              "    background-color: var(--hover-bg-color);\n",
              "    box-shadow: 0 1px 2px rgba(60, 64, 67, 0.3), 0 1px 3px 1px rgba(60, 64, 67, 0.15);\n",
              "    fill: var(--button-hover-fill-color);\n",
              "  }\n",
              "\n",
              "  .colab-df-quickchart-complete:disabled,\n",
              "  .colab-df-quickchart-complete:disabled:hover {\n",
              "    background-color: var(--disabled-bg-color);\n",
              "    fill: var(--disabled-fill-color);\n",
              "    box-shadow: none;\n",
              "  }\n",
              "\n",
              "  .colab-df-spinner {\n",
              "    border: 2px solid var(--fill-color);\n",
              "    border-color: transparent;\n",
              "    border-bottom-color: var(--fill-color);\n",
              "    animation:\n",
              "      spin 1s steps(1) infinite;\n",
              "  }\n",
              "\n",
              "  @keyframes spin {\n",
              "    0% {\n",
              "      border-color: transparent;\n",
              "      border-bottom-color: var(--fill-color);\n",
              "      border-left-color: var(--fill-color);\n",
              "    }\n",
              "    20% {\n",
              "      border-color: transparent;\n",
              "      border-left-color: var(--fill-color);\n",
              "      border-top-color: var(--fill-color);\n",
              "    }\n",
              "    30% {\n",
              "      border-color: transparent;\n",
              "      border-left-color: var(--fill-color);\n",
              "      border-top-color: var(--fill-color);\n",
              "      border-right-color: var(--fill-color);\n",
              "    }\n",
              "    40% {\n",
              "      border-color: transparent;\n",
              "      border-right-color: var(--fill-color);\n",
              "      border-top-color: var(--fill-color);\n",
              "    }\n",
              "    60% {\n",
              "      border-color: transparent;\n",
              "      border-right-color: var(--fill-color);\n",
              "    }\n",
              "    80% {\n",
              "      border-color: transparent;\n",
              "      border-right-color: var(--fill-color);\n",
              "      border-bottom-color: var(--fill-color);\n",
              "    }\n",
              "    90% {\n",
              "      border-color: transparent;\n",
              "      border-bottom-color: var(--fill-color);\n",
              "    }\n",
              "  }\n",
              "</style>\n",
              "\n",
              "      <script>\n",
              "        async function quickchart(key) {\n",
              "          const quickchartButtonEl =\n",
              "            document.querySelector('#' + key + ' button');\n",
              "          quickchartButtonEl.disabled = true;  // To prevent multiple clicks.\n",
              "          quickchartButtonEl.classList.add('colab-df-spinner');\n",
              "          try {\n",
              "            const charts = await google.colab.kernel.invokeFunction(\n",
              "                'suggestCharts', [key], {});\n",
              "          } catch (error) {\n",
              "            console.error('Error during call to suggestCharts:', error);\n",
              "          }\n",
              "          quickchartButtonEl.classList.remove('colab-df-spinner');\n",
              "          quickchartButtonEl.classList.add('colab-df-quickchart-complete');\n",
              "        }\n",
              "        (() => {\n",
              "          let quickchartButtonEl =\n",
              "            document.querySelector('#df-1cd91ab5-b4ad-47ae-b5d0-a2bfdd949eb1 button');\n",
              "          quickchartButtonEl.style.display =\n",
              "            google.colab.kernel.accessAllowed ? 'block' : 'none';\n",
              "        })();\n",
              "      </script>\n",
              "    </div>\n",
              "\n",
              "    </div>\n",
              "  </div>\n"
            ],
            "application/vnd.google.colaboratory.intrinsic+json": {
              "type": "dataframe",
              "variable_name": "coef_df",
              "summary": "{\n  \"name\": \"coef_df\",\n  \"rows\": 29,\n  \"fields\": [\n    {\n      \"column\": \"feature\",\n      \"properties\": {\n        \"dtype\": \"string\",\n        \"num_unique_values\": 29,\n        \"samples\": [\n          \"Ambient_Temperature\",\n          \"Total_Cycle_Time\",\n          \"Shift_Day\"\n        ],\n        \"semantic_type\": \"\",\n        \"description\": \"\"\n      }\n    },\n    {\n      \"column\": \"coefficient\",\n      \"properties\": {\n        \"dtype\": \"number\",\n        \"std\": 1764726150281.2522,\n        \"min\": -4114572694005.902,\n        \"max\": 480584356519.40186,\n        \"num_unique_values\": 29,\n        \"samples\": [\n          -0.12192614107040152,\n          -10.045115383938684,\n          -846886220824.0281\n        ],\n        \"semantic_type\": \"\",\n        \"description\": \"\"\n      }\n    }\n  ]\n}"
            }
          },
          "metadata": {},
          "execution_count": 15
        }
      ]
    },
    {
      "cell_type": "code",
      "source": [
        "import pickle\n",
        "import json\n",
        "import joblib\n",
        "\n",
        "# model saving\n",
        "with open('linear_regression_model.pkl','wb') as f:\n",
        "  pickle.dump(final_model, f)\n",
        "feature_columns = X.columns.tolist()\n",
        "with open(\"feature_columns.json\", \"w\") as f:\n",
        "  json.dump(feature_columns, f)\n",
        "\n",
        "\n",
        "print(\"model, scaler (if part of pipeline), and feature columns saved.\")"
      ],
      "metadata": {
        "id": "owhLMpRmY_lA",
        "colab": {
          "base_uri": "https://localhost:8080/"
        },
        "outputId": "961cfab7-3fd9-46b8-854d-2b906ec11e5e"
      },
      "execution_count": null,
      "outputs": [
        {
          "output_type": "stream",
          "name": "stdout",
          "text": [
            "model, scaler (if part of pipeline), and feature columns saved.\n"
          ]
        }
      ]
    },
    {
      "cell_type": "code",
      "source": [
        "from sklearn.model_selection import train_test_split\n",
        "from sklearn.preprocessing import StandardScaler\n",
        "\n",
        "# Separate features and target\n",
        "X = df.drop(columns=['Parts_Per_Hour'])\n",
        "y = df['Parts_Per_Hour']\n",
        "\n",
        "# 1️⃣ One-hot encode categorical columns\n",
        "X = pd.get_dummies(X, drop_first=True)\n",
        "\n",
        "# 2️⃣ Split data\n",
        "X_train, X_test, y_train, y_test = train_test_split(X, y, test_size=0.2, random_state=42)\n",
        "\n",
        "# 3️⃣ Scale numeric features\n",
        "scaler = StandardScaler()\n",
        "X_train_scaled = scaler.fit_transform(X_train)\n",
        "X_test_scaled = scaler.transform(X_test)\n",
        "\n",
        "# 4️⃣ Train your model\n",
        "from sklearn.linear_model import LinearRegression\n",
        "final_model = LinearRegression()\n",
        "final_model.fit(X_train_scaled, y_train)\n",
        "\n",
        "# 5️⃣ Save both model and scaler\n",
        "import joblib\n",
        "joblib.dump(final_model, 'linear_regression_model.pkl')\n",
        "joblib.dump(scaler, 'scaler.pkl')\n",
        "\n",
        "print(\"✅ Model and scaler have been saved successfully!\")"
      ],
      "metadata": {
        "id": "RhGazB4HogjZ",
        "colab": {
          "base_uri": "https://localhost:8080/"
        },
        "outputId": "105244d2-e059-4692-fba7-f9181af8d8a0"
      },
      "execution_count": null,
      "outputs": [
        {
          "output_type": "stream",
          "name": "stdout",
          "text": [
            "✅ Model and scaler have been saved successfully!\n"
          ]
        }
      ]
    },
    {
      "cell_type": "code",
      "source": [
        "!ls"
      ],
      "metadata": {
        "id": "KkX-D-lbohP5",
        "colab": {
          "base_uri": "https://localhost:8080/"
        },
        "outputId": "1a8ddfca-5fea-4ff3-bb8b-2a8e091f4838"
      },
      "execution_count": null,
      "outputs": [
        {
          "output_type": "stream",
          "name": "stdout",
          "text": [
            "feature_columns.json\t\t\t     model\t  scaler.pkl\n",
            "linear_regression_model.pkl\t\t     model.pkl\n",
            "manufacturing_dataset_1000_samples.xlsx.csv  sample_data\n"
          ]
        }
      ]
    },
    {
      "cell_type": "code",
      "source": [
        "import joblib\n",
        "from sklearn.model_selection import train_test_split\n",
        "from sklearn.preprocessing import StandardScaler, OneHotEncoder\n",
        "from sklearn.impute import SimpleImputer\n",
        "from sklearn.compose import ColumnTransformer\n",
        "from sklearn.pipeline import Pipeline\n",
        "from sklearn.linear_model import LinearRegression\n",
        "import pandas as pd\n",
        "import numpy as np\n",
        "\n",
        "# Assuming 'df' is already loaded from a previous cell\n",
        "# Step 2: load and inspect\n",
        "DATA_PATH = (\"/content/manufacturing_dataset_1000_samples.xlsx.csv\")\n",
        "df = pd.read_csv(DATA_PATH)\n",
        "\n",
        "# Step 5: handle missing values\n",
        "numeric_fill_cols = ['Material_Viscosity', 'Ambient_Temperature', 'Operator_Experience']\n",
        "for c in numeric_fill_cols:\n",
        "    if c in df.columns:\n",
        "        median_val = df[c].median()\n",
        "        df[c] = df[c].fillna(median_val)\n",
        "\n",
        "# Separate features and target\n",
        "X = df.drop(columns=['Parts_Per_Hour'])\n",
        "y = df['Parts_Per_Hour']\n",
        "\n",
        "# Define numeric and categorical features\n",
        "numeric_features = [c for c in X.select_dtypes(include=np.number).columns.tolist()]\n",
        "categorical_features = [c for c in X.select_dtypes(include='object').columns.tolist()]\n",
        "\n",
        "# Create preprocessing pipelines for numeric and categorical features\n",
        "numeric_transformer = Pipeline(steps=[\n",
        "    ('imputer', SimpleImputer(strategy='median')),\n",
        "    ('scaler', StandardScaler())\n",
        "])\n",
        "\n",
        "categorical_transformer = Pipeline(steps=[\n",
        "    ('onehot', OneHotEncoder(handle_unknown='ignore'))\n",
        "])\n",
        "\n",
        "# Create a column transformer to apply different transformations to different columns\n",
        "preprocessor = ColumnTransformer(transformers=[\n",
        "    ('num', numeric_transformer, numeric_features),\n",
        "    ('cat', categorical_transformer, categorical_features)\n",
        "])\n",
        "\n",
        "\n",
        "# Split data\n",
        "X_train, X_test, y_train, y_test = train_test_split(X, y, test_size=0.2, random_state=42)\n",
        "\n",
        "\n",
        "# Train your model\n",
        "final_model = Pipeline(steps=[\n",
        "    ('preprocessor', preprocessor),\n",
        "    ('regressor', LinearRegression())\n",
        "])\n",
        "\n",
        "final_model.fit(X_train, y_train)\n",
        "\n",
        "# Save the trained model and scaler\n",
        "joblib.dump(final_model, 'linear_regression_model.pkl')\n",
        "# The scaler is now part of the pipeline, so we don't need to save it separately.\n",
        "# joblib.dump(scaler, 'scaler.pkl')\n",
        "\n",
        "\n",
        "print(\"✅ Model and scaler saved successfully!\")"
      ],
      "metadata": {
        "id": "wdet0iWholFy",
        "colab": {
          "base_uri": "https://localhost:8080/"
        },
        "outputId": "78e88a6e-3e9e-40af-d5a8-906b93e58076"
      },
      "execution_count": null,
      "outputs": [
        {
          "output_type": "stream",
          "name": "stdout",
          "text": [
            "✅ Model and scaler saved successfully!\n"
          ]
        }
      ]
    },
    {
      "cell_type": "code",
      "source": [
        "import pandas as pd\n",
        "from sklearn.model_selection import train_test_split\n",
        "from sklearn.linear_model import LinearRegression\n",
        "from sklearn.preprocessing import OneHotEncoder\n",
        "from sklearn.compose import ColumnTransformer\n",
        "from sklearn.pipeline import Pipeline\n",
        "from sklearn.impute import SimpleImputer # Import SimpleImputer\n",
        "import joblib\n",
        "\n",
        "# Load dataset\n",
        "data = pd.read_csv(\"/content/manufacturing_dataset_1000_samples.xlsx.csv\")\n",
        "\n",
        "# Split features and target\n",
        "X = data.drop(\"Parts_Per_Hour\", axis=1)\n",
        "y = data[\"Parts_Per_Hour\"]\n",
        "\n",
        "# Separate categorical and numerical columns\n",
        "categorical_cols = X.select_dtypes(include=['object']).columns\n",
        "numerical_cols = X.select_dtypes(exclude=['object']).columns\n",
        "\n",
        "# Preprocessing pipeline with imputation\n",
        "preprocessor = ColumnTransformer([\n",
        "    ('cat', OneHotEncoder(handle_unknown='ignore'), categorical_cols),\n",
        "    ('num', Pipeline([('imputer', SimpleImputer(strategy='median')), ('scaler', 'passthrough')]), numerical_cols) # Added imputation and scaling for numeric features\n",
        "])\n",
        "\n",
        "# Full pipeline with model\n",
        "model = Pipeline([\n",
        "    ('preprocessor', preprocessor),\n",
        "    ('regressor', LinearRegression())\n",
        "])\n",
        "\n",
        "# Train\n",
        "model.fit(X, y)\n",
        "\n",
        "# ✅ Save model with same scikit-learn version (1.3.2)\n",
        "joblib.dump(model, \"model.pkl\")\n",
        "\n",
        "print(\"Model retrained and saved successfully!\")"
      ],
      "metadata": {
        "colab": {
          "base_uri": "https://localhost:8080/"
        },
        "id": "sNcI2I1vEXpL",
        "outputId": "e33851e3-bbb5-44c5-ce5b-956422e1a192"
      },
      "execution_count": null,
      "outputs": [
        {
          "output_type": "stream",
          "name": "stdout",
          "text": [
            "Model retrained and saved successfully!\n"
          ]
        }
      ]
    },
    {
      "cell_type": "code",
      "source": [
        "!pip install -U scikit-learn==1.4.2 joblib==1.3.2"
      ],
      "metadata": {
        "colab": {
          "base_uri": "https://localhost:8080/",
          "height": 411
        },
        "id": "D95nYENjEvvj",
        "outputId": "de61ef08-52df-4296-c38f-45f5355d4f6a"
      },
      "execution_count": null,
      "outputs": [
        {
          "output_type": "stream",
          "name": "stdout",
          "text": [
            "Collecting scikit-learn==1.4.2\n",
            "  Using cached scikit_learn-1.4.2-cp312-cp312-manylinux_2_17_x86_64.manylinux2014_x86_64.whl.metadata (11 kB)\n",
            "Requirement already satisfied: joblib==1.3.2 in /usr/local/lib/python3.12/dist-packages (1.3.2)\n",
            "Requirement already satisfied: numpy>=1.19.5 in /usr/local/lib/python3.12/dist-packages (from scikit-learn==1.4.2) (1.26.4)\n",
            "Requirement already satisfied: scipy>=1.6.0 in /usr/local/lib/python3.12/dist-packages (from scikit-learn==1.4.2) (1.16.2)\n",
            "Requirement already satisfied: threadpoolctl>=2.0.0 in /usr/local/lib/python3.12/dist-packages (from scikit-learn==1.4.2) (3.6.0)\n",
            "Using cached scikit_learn-1.4.2-cp312-cp312-manylinux_2_17_x86_64.manylinux2014_x86_64.whl (12.2 MB)\n",
            "Installing collected packages: scikit-learn\n",
            "  Attempting uninstall: scikit-learn\n",
            "    Found existing installation: scikit-learn 1.3.2\n",
            "    Uninstalling scikit-learn-1.3.2:\n",
            "      Successfully uninstalled scikit-learn-1.3.2\n",
            "\u001b[31mERROR: pip's dependency resolver does not currently take into account all the packages that are installed. This behaviour is the source of the following dependency conflicts.\n",
            "cuml-cu12 25.6.0 requires scikit-learn>=1.5, but you have scikit-learn 1.4.2 which is incompatible.\n",
            "umap-learn 0.5.9.post2 requires scikit-learn>=1.6, but you have scikit-learn 1.4.2 which is incompatible.\u001b[0m\u001b[31m\n",
            "\u001b[0mSuccessfully installed scikit-learn-1.4.2\n"
          ]
        },
        {
          "output_type": "display_data",
          "data": {
            "application/vnd.colab-display-data+json": {
              "pip_warning": {
                "packages": [
                  "sklearn"
                ]
              },
              "id": "321b1d708991450896d83b557bedeba0"
            }
          },
          "metadata": {}
        }
      ]
    },
    {
      "cell_type": "code",
      "source": [],
      "metadata": {
        "id": "7TwZiwf2H7TP"
      },
      "execution_count": null,
      "outputs": []
    }
  ]
}